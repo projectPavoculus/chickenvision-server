{
  "cells": [
    {
      "cell_type": "markdown",
      "metadata": {
        "id": "jWhinKgs2VL7"
      },
      "source": [
        "# YOLOv8 Pose Estimation Proof of Concept\n",
        "\n",
        "This notebook demonstrates the setup and execution of a pose estimation project using YOLOv8 in the Chickenvision project. The steps include downloading necessary assets from a GitHub release, setting up the environment, running pose estimation on a video file, and analyzing the results.\n",
        "\n",
        "## Prerequisites\n",
        "\n",
        "Before running this notebook, ensure you have the following:\n",
        "- Anaconda installed\n",
        "- A GitHub personal access token (PAT) for downloading assets from a private repository"
      ]
    },
    {
      "cell_type": "markdown",
      "metadata": {
        "id": "fsuANx7KQ2vP"
      },
      "source": [
        "1. **Install Required Libraries:**\n",
        "   First, you need to install the required libraries such as `ultralytics` for YOLOv8, `torch`, `opencv-python`, `requests`, and `matplotlib`."
      ]
    },
    {
      "cell_type": "code",
      "execution_count": null,
      "metadata": {
        "colab": {
          "base_uri": "https://localhost:8080/"
        },
        "id": "Hyo7hiQrQ4sj",
        "outputId": "a2791bfd-a318-4951-a4a8-60732a7e701f"
      },
      "outputs": [],
      "source": [
        "%pip install ultralytics\n",
        "%pip install torch\n",
        "%pip install torch torchvision torchaudio\n",
        "%pip install opencv-python\n",
        "%pip install opencv-python-headless\n",
        "%pip install requests\n",
        "%pip install matplotlib"
      ]
    },
    {
      "cell_type": "markdown",
      "metadata": {
        "id": "g6ajbdPQQ7Ey"
      },
      "source": [
        "2. **Download and Prepare the Video Source:**\n",
        "   If you have a video file, you can upload it manually to your Colab environment or download it from a URL."
      ]
    },
    {
      "cell_type": "code",
      "execution_count": null,
      "metadata": {
        "colab": {
          "base_uri": "https://localhost:8080/"
        },
        "id": "_q3QgtGUQ8sP",
        "outputId": "5e9886d9-9e35-4cdc-d8c1-3f82dde88af1"
      },
      "outputs": [],
      "source": [
        "# Example of downloading a video file from a URL\n",
        "!wget -O ./content/sample_video.mp4 'https://assets.mixkit.co/videos/preview/mixkit-politician-escaping-from-journalists-23111-large.mp4'"
      ]
    },
    {
      "cell_type": "markdown",
      "metadata": {
        "id": "zQ_M0sdMQ-nK"
      },
      "source": [
        "3. **Set Up the Directory Structure:**\n",
        "   Create directories for storing model files and output files."
      ]
    },
    {
      "cell_type": "code",
      "execution_count": null,
      "metadata": {
        "id": "Iso1iEWmRAAW"
      },
      "outputs": [],
      "source": [
        "!mkdir -p ./content/models\n",
        "!mkdir -p ./content/outputs"
      ]
    },
    {
      "cell_type": "code",
      "execution_count": null,
      "metadata": {
        "id": "w0j_648suBhO"
      },
      "outputs": [],
      "source": [
        "import os\n",
        "import csv\n",
        "import json\n",
        "import math\n",
        "import cv2\n",
        "import torch\n",
        "import numpy as np\n",
        "import requests\n",
        "import matplotlib.pyplot as plt\n",
        "from tqdm import tqdm\n",
        "from ultralytics import YOLO"
      ]
    },
    {
      "cell_type": "markdown",
      "metadata": {
        "id": "AnwhJ_QQuJWz"
      },
      "source": [
        "## Constants"
      ]
    },
    {
      "cell_type": "code",
      "execution_count": null,
      "metadata": {
        "id": "pCNX4VxGuCut"
      },
      "outputs": [],
      "source": [
        "\n",
        "GITHUB_PAT = \"YOUR_GITHUB_PAT\"  # Replace with your GitHub Personal Access Token\n",
        "REPO = \"projectPavoculus/chickenvision-server\"\n",
        "RELEASE_TAG = \"v1.0.1\"\n",
        "MODEL_FILENAMES = [\"yolov8n-pose.pt\", \"yolov8n-seg.pt\", \"yolov8n.pt\"]\n",
        "DOWNLOAD_DIR = \"./content/models\"\n",
        "OUTPUT_CSV = \"./content/keypoints_output.csv\"\n",
        "VIDEO_SOURCE = \"./content/sample_video.mp4\"  # Replace with your video file"
      ]
    },
    {
      "cell_type": "markdown",
      "metadata": {
        "id": "aeGAhkQHuFLo"
      },
      "source": [
        "## Python Script for Pose Estimation"
      ]
    },
    {
      "cell_type": "markdown",
      "metadata": {
        "id": "nc045ae03m54"
      },
      "source": [
        "Downloads model files from the specified GitHub release using the GitHub API."
      ]
    },
    {
      "cell_type": "code",
      "execution_count": null,
      "metadata": {
        "id": "xKvLLVlLuIV-"
      },
      "outputs": [],
      "source": [
        "def download_model_files():\n",
        "    if not os.path.exists(DOWNLOAD_DIR):\n",
        "        os.makedirs(DOWNLOAD_DIR)\n",
        "\n",
        "    base_url = f\"https://api.github.com/repos/{REPO}/releases/tags/{RELEASE_TAG}\"\n",
        "    response = requests.get(base_url, headers={\"Authorization\": f\"token {GITHUB_PAT}\"})\n",
        "    release_data = response.json()\n",
        "\n",
        "    for asset in release_data.get(\"assets\", []):\n",
        "        if asset[\"name\"] in MODEL_FILENAMES:\n",
        "            download_url = asset[\"browser_download_url\"]\n",
        "            download_path = os.path.join(DOWNLOAD_DIR, asset[\"name\"])\n",
        "            print(f\"Downloading {asset['name']}...\")\n",
        "            with requests.get(download_url, headers={\"Authorization\": f\"token {GITHUB_PAT}\"}, stream=True) as r:\n",
        "                r.raise_for_status()\n",
        "                with open(download_path, 'wb') as f:\n",
        "                    for chunk in r.iter_content(chunk_size=8192):\n",
        "                        f.write(chunk)\n",
        "            print(f\"Downloaded {asset['name']} to {download_path}\")"
      ]
    },
    {
      "cell_type": "markdown",
      "metadata": {
        "id": "ie2a89Uu3kP4"
      },
      "source": [
        "Parses the keypoints from the given CSV file."
      ]
    },
    {
      "cell_type": "code",
      "execution_count": null,
      "metadata": {
        "id": "75LwIAN9uLNt"
      },
      "outputs": [],
      "source": [
        "def parse_keypoints_csv(file_path):\n",
        "    keypoints = []\n",
        "    with open(file_path, 'r') as file:\n",
        "        reader = csv.reader(file)\n",
        "        next(reader)  # Skip header row\n",
        "        for row in reader:\n",
        "            frame, person, keypoint, x, y = row\n",
        "            keypoints.append((int(frame), int(person), int(keypoint), float(x), float(y)))\n",
        "    return keypoints"
      ]
    },
    {
      "cell_type": "markdown",
      "metadata": {
        "id": "N3qKhO3g-7cL"
      },
      "source": [
        "Counts the number of lines in a file."
      ]
    },
    {
      "cell_type": "code",
      "execution_count": null,
      "metadata": {
        "id": "xMHHEHEB-4PA"
      },
      "outputs": [],
      "source": [
        "def count_lines(file_path):\n",
        "    with open(file_path, 'r') as file:\n",
        "        return sum(1 for line in file)"
      ]
    },
    {
      "cell_type": "markdown",
      "metadata": {
        "id": "bfrsM6V43hOm"
      },
      "source": [
        "Saves the keypoints from the YOLO model results to a CSV file."
      ]
    },
    {
      "cell_type": "code",
      "execution_count": null,
      "metadata": {
        "id": "8cwynSKRuM1n"
      },
      "outputs": [],
      "source": [
        "def save_keypoints(results, output_file):\n",
        "    with open(output_file, 'w', newline='') as file:\n",
        "        if count_lines(output_file) > 2:\n",
        "            raise Exception(\"The file already has the necessary.\")\n",
        "        writer = csv.writer(file)\n",
        "        writer.writerow([\"Frame\", \"Person\", \"Keypoint\", \"X\", \"Y\"])\n",
        "        for i, result in enumerate(results):\n",
        "            keypoints = result.keypoints.xy[0]\n",
        "            for j, person_keypoints in enumerate(keypoints):\n",
        "                for k, keypoint in enumerate(person_keypoints):\n",
        "                    try:\n",
        "                        x, y = person_keypoints[:2]\n",
        "                        writer.writerow([i, j, k, x.item(), y.item()])\n",
        "                    except IndexError as e:\n",
        "                        print(f\"Error accessing keypoint: {e}\")\n",
        "                        print(f\"Keypoint data: {person_keypoints}\")\n"
      ]
    },
    {
      "cell_type": "markdown",
      "metadata": {
        "id": "e-OTcIxB3pr1"
      },
      "source": [
        "Separates keypoints by frame and person."
      ]
    },
    {
      "cell_type": "code",
      "execution_count": null,
      "metadata": {
        "id": "3hGWA42zuWhD"
      },
      "outputs": [],
      "source": [
        "def separate_keypoints(keypoints):\n",
        "    separated_keypoints = {}\n",
        "    for frame, person, keypoint, x, y in keypoints:\n",
        "        if frame not in separated_keypoints:\n",
        "            separated_keypoints[frame] = {}\n",
        "        if person not in separated_keypoints[frame]:\n",
        "            separated_keypoints[frame][person] = []\n",
        "        separated_keypoints[frame][person].append((keypoint, x, y))\n",
        "    return separated_keypoints"
      ]
    },
    {
      "cell_type": "markdown",
      "metadata": {
        "id": "PLOjbJFE3r9O"
      },
      "source": [
        "Generates a graph of keypoints for a given frame."
      ]
    },
    {
      "cell_type": "code",
      "execution_count": null,
      "metadata": {
        "id": "HOVmDEo9uYOR"
      },
      "outputs": [],
      "source": [
        "def generate_graph(frame_keypoints, frame_idx):\n",
        "    plt.figure(figsize=(10, 6))\n",
        "    colors = plt.cm.get_cmap('tab10', len(frame_keypoints[frame_idx]))\n",
        "\n",
        "    for person_id, keypoints_list in frame_keypoints[frame_idx].items():\n",
        "        x = [kp[1] for kp in keypoints_list]\n",
        "        y = [kp[2] for kp in keypoints_list]\n",
        "        plt.scatter(x, y, color=colors(person_id), label=f\"Person {person_id}\")\n",
        "        for i, (xi, yi) in enumerate(zip(x, y)):\n",
        "            plt.annotate(str(i), (xi, yi))\n",
        "\n",
        "    plt.gca().invert_yaxis()\n",
        "    plt.xlabel('X Coordinate')\n",
        "    plt.ylabel('Y Coordinate')\n",
        "    plt.title(f'Frame {frame_idx} Keypoints')\n",
        "    plt.legend()\n",
        "    plt.show()"
      ]
    },
    {
      "cell_type": "markdown",
      "metadata": {
        "id": "-KTwsVgf3uG8"
      },
      "source": [
        "Displays keypoints with optional graph generation."
      ]
    },
    {
      "cell_type": "code",
      "execution_count": null,
      "metadata": {
        "id": "VIlBPEV4uZb8"
      },
      "outputs": [],
      "source": [
        "def display_keypoints(keypoints, save_graph=False):\n",
        "    for frame_idx, frame_keypoints in keypoints.items():\n",
        "        print(f\"Frame {frame_idx}:\")\n",
        "        if save_graph:\n",
        "            generate_graph(keypoints, frame_idx)\n",
        "        for person_id, keypoints_list in frame_keypoints.items():\n",
        "            print(f\"Person {person_id}:\")\n",
        "            for keypoint, x, y in keypoints_list[:6]:\n",
        "                print(f\"Keypoint {keypoint}: (x={x}, y={y})\")\n",
        "            print()"
      ]
    },
    {
      "cell_type": "markdown",
      "metadata": {
        "id": "dQkZkd423wyJ"
      },
      "source": [
        "Main function to run the pose estimation."
      ]
    },
    {
      "cell_type": "code",
      "execution_count": null,
      "metadata": {
        "id": "RqfRIEAZuboi"
      },
      "outputs": [],
      "source": [
        "def main():\n",
        "    # Download model files\n",
        "    download_model_files()\n",
        "\n",
        "    # Initialize the model\n",
        "    model_path = os.path.join(DOWNLOAD_DIR, \"yolov8n-pose.pt\")\n",
        "    model = YOLO(model_path)\n",
        "\n",
        "    # Run prediction\n",
        "    print(\"Running pose estimation...\")\n",
        "    results = model.predict(source=VIDEO_SOURCE, save=True, conf=0.5, save_txt=False, show=True)\n",
        "\n",
        "    # Save keypoints to CSV\n",
        "    save_keypoints(results, OUTPUT_CSV)\n",
        "\n",
        "    # Parse and display keypoints\n",
        "    parsed_keypoints = parse_keypoints_csv(OUTPUT_CSV)\n",
        "    separated_keypoints = separate_keypoints(parsed_keypoints)\n",
        "    # display_keypoints(separated_keypoints, save_graph=True)"
      ]
    },
    {
      "cell_type": "markdown",
      "metadata": {
        "id": "BWG0WJurRIje"
      },
      "source": [
        "### Instructions\n",
        "1. Open Google Colab and create a new notebook.\n",
        "2. Copy the provided code block into a cell.\n",
        "3. Replace `GITHUB_PAT = \"YOUR_GITHUB_PAT\"` with your actual GitHub Personal Access Token.\n",
        "4. Replace the `VIDEO_SOURCE` URL with the URL to your video file.\n",
        "5. Run the cell to execute the script.\n",
        "\n",
        "This notebook cell installs the necessary libraries, sets up the directory structure, downloads the video and model files, and runs the pose estimation script. The script will display keypoints on the video frames and generate graphs for visualization."
      ]
    },
    {
      "cell_type": "code",
      "execution_count": null,
      "metadata": {
        "colab": {
          "base_uri": "https://localhost:8080/"
        },
        "id": "BnFHW5eWue4O",
        "outputId": "23c73e25-6d05-44cf-bff5-fdc838e75da3"
      },
      "outputs": [],
      "source": [
        "if __name__ == \"__main__\":\n",
        "    main()"
      ]
    }
  ],
  "metadata": {
    "accelerator": "GPU",
    "colab": {
      "gpuType": "T4",
      "provenance": []
    },
    "kernelspec": {
      "display_name": "Python 3",
      "name": "python3"
    },
    "language_info": {
      "codemirror_mode": {
        "name": "ipython",
        "version": 3
      },
      "file_extension": ".py",
      "mimetype": "text/x-python",
      "name": "python",
      "nbconvert_exporter": "python",
      "pygments_lexer": "ipython3",
      "version": "3.10.13"
    }
  },
  "nbformat": 4,
  "nbformat_minor": 0
}
